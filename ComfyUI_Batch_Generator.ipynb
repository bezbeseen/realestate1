{
  "cells": [
    {
      "cell_type": "code",
      "execution_count": null,
      "metadata": {
        "vscode": {
          "languageId": "plaintext"
        }
      },
      "outputs": [],
      "source": [
        "# 🚀 ComfyUI Batch Image Generator for Real Estate Business\n",
        "\n",
        "This notebook will:\n",
        "1. Install ComfyUI on Google Colab\n",
        "2. Download your models\n",
        "3. Generate hundreds of product images\n",
        "4. Package them for download\n",
        "\n",
        "**⚡ Much faster than your Mac!**\n"
      ]
    },
    {
      "cell_type": "code",
      "execution_count": null,
      "metadata": {},
      "outputs": [],
      "source": [
        "# 📦 Install ComfyUI and Dependencies\n",
        "print(\"🚀 Installing ComfyUI...\")\n",
        "\n",
        "!git clone https://github.com/comfyanonymous/ComfyUI.git\n",
        "%cd ComfyUI\n",
        "!pip install -r requirements.txt\n",
        "!pip install requests pillow\n",
        "\n",
        "print(\"✅ ComfyUI installed!\")\n"
      ]
    },
    {
      "cell_type": "code",
      "execution_count": null,
      "metadata": {},
      "outputs": [],
      "source": [
        "# 📥 Download AI Models\n",
        "print(\"📥 Downloading Stable Diffusion model...\")\n",
        "\n",
        "import os\n",
        "os.makedirs('models/checkpoints', exist_ok=True)\n",
        "\n",
        "# Download the model you were using\n",
        "!wget -O models/checkpoints/v1-5-pruned-emaonly-fp16.safetensors \\\n",
        "  https://huggingface.co/runwayml/stable-diffusion-v1-5/resolve/main/v1-5-pruned-emaonly.safetensors\n",
        "\n",
        "print(\"✅ Model downloaded!\")\n",
        "!ls -la models/checkpoints/\n"
      ]
    },
    {
      "cell_type": "code",
      "execution_count": null,
      "metadata": {},
      "outputs": [],
      "source": [
        "# 🎨 Generate Real Estate Product Images\n",
        "\n",
        "# Define your product prompts\n",
        "product_prompts = [\n",
        "    # Business Cards\n",
        "    \"Professional business cards, premium quality, clean white background, studio lighting, commercial photography\",\n",
        "    \"Luxury business cards with metallic finish, high-end presentation, professional lighting\",\n",
        "    \"Corporate business cards, standard quality, clean design, white background\",\n",
        "    \"Real estate business cards, elegant design, professional presentation\",\n",
        "    \"Premium business cards with embossed elements, luxury finish\",\n",
        "    \n",
        "    # Flyers\n",
        "    \"Real estate flyers, professional design, property marketing materials, clean layout\",\n",
        "    \"Property listing flyers, high-quality print materials, professional presentation\",\n",
        "    \"Real estate marketing flyers, modern design, commercial photography\",\n",
        "    \"Luxury property flyers, premium presentation, elegant design\",\n",
        "    \"Open house flyers, professional real estate marketing materials\",\n",
        "    \n",
        "    # Banners\n",
        "    \"Real estate banners, professional signage, outdoor advertising materials\",\n",
        "    \"Property sale banners, high-quality vinyl printing, commercial grade\",\n",
        "    \"Real estate yard signs, professional presentation, durable materials\",\n",
        "    \"Open house banners, eye-catching design, professional quality\",\n",
        "    \"Real estate advertising banners, premium materials, weather resistant\",\n",
        "    \n",
        "    # Brochures\n",
        "    \"Real estate brochures, tri-fold design, professional presentation\",\n",
        "    \"Property brochures, high-quality printing, elegant layout\",\n",
        "    \"Luxury real estate brochures, premium paper stock, professional design\",\n",
        "    \"Real estate marketing brochures, informational layout, clean design\",\n",
        "    \"Property listing brochures, professional presentation, detailed information\"\n",
        "]\n",
        "\n",
        "print(f\"🎯 Ready to generate {len(product_prompts)} product images...\")\n",
        "print(\"📝 Run the next cell to start generation!\")\n"
      ]
    }
  ],
  "metadata": {
    "language_info": {
      "name": "python"
    }
  },
  "nbformat": 4,
  "nbformat_minor": 2
}
